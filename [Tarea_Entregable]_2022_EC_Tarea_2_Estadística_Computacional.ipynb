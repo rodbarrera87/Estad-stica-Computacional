{
  "cells": [
    {
      "cell_type": "markdown",
      "metadata": {
        "id": "AHwh8pEKeYYz"
      },
      "source": [
        "# Tarea 2 - Estadística Computacional\n",
        "\n",
        "(ordenados alfabéticamente)\n",
        "- Nombre: Christian Araya\n",
        "- Nombre: Rodrigo Barrera\n",
        "\n",
        "Curso: Estadística Computacional\n",
        "\n",
        "Doctorado en Estadística\n",
        "\n",
        "\n",
        "Responda las preguntas que se indican colocando el código requerido. El Notebook se entrega totalmente ejecutado."
      ]
    },
    {
      "cell_type": "markdown",
      "metadata": {
        "id": "hJSM7VpweYZM"
      },
      "source": [
        "**Ingrese los Toolbox que se utilizarán en este Jupyter**"
      ]
    },
    {
      "cell_type": "code",
      "execution_count": null,
      "metadata": {
        "id": "PtEZppw_eYZN"
      },
      "outputs": [],
      "source": [
        "import time\n",
        "import numpy as np\n",
        "import matplotlib.pyplot as plt"
      ]
    },
    {
      "cell_type": "code",
      "source": [
        ""
      ],
      "metadata": {
        "id": "sppn5hhj7F-v"
      },
      "execution_count": null,
      "outputs": []
    },
    {
      "cell_type": "markdown",
      "metadata": {
        "id": "5KkNh4CReYZP"
      },
      "source": [
        "## 1. Estudio de Algoritmos de Ordenamiento\n",
        "\n",
        "Realizar un estudio comparativo de los tiempos de ejecución requeridos por los algoritmos de ordenamientos, para ordernar listas de elementos con diferentes tamaños. El estudio debe considerar al menos 4 algoritmos de ordenamientos diferentes seleccionados por Ud."
      ]
    },
    {
      "cell_type": "markdown",
      "source": [
        "**1.1.-** Implementar una función que genere una lista con $n$ números aleatorios en el rango $a$, $b$. Los parámetros $n, a, b$ son ingresados por el usuario."
      ],
      "metadata": {
        "id": "rmlPckNH7RCF"
      }
    },
    {
      "cell_type": "code",
      "source": [
        "def aleatorio(n,a,b):\n",
        "  return a+(b-a)*np.random.rand(n)"
      ],
      "metadata": {
        "id": "hyV0Orw-7OhK"
      },
      "execution_count": null,
      "outputs": []
    },
    {
      "cell_type": "code",
      "source": [
        "#ejemplo:\n",
        "datosejemplo=aleatorio(100,1,15)\n",
        "print(datosejemplo)"
      ],
      "metadata": {
        "colab": {
          "base_uri": "https://localhost:8080/"
        },
        "id": "nDdj4iAj5xpk",
        "outputId": "9a41d3ea-48e6-4e2e-a47d-0eb098dd52be"
      },
      "execution_count": null,
      "outputs": [
        {
          "output_type": "stream",
          "name": "stdout",
          "text": [
            "[14.37613951 10.08922998  7.32141677  2.15839605  5.71208589  4.25439887\n",
            "  5.05681977 11.45331377  4.10441859  2.19452324  3.26836932  3.66578837\n",
            " 12.7267682  10.32179291  8.02525045 13.62361605  8.81852944  1.21794221\n",
            " 10.83483366 14.85915697 13.89086885 13.52831332  2.64310024  5.1809899\n",
            "  7.82953435  8.5516523   2.85724323  5.84629134  7.37108893 14.63122459\n",
            "  5.48828108  7.64678444 14.45723741  3.79348118  7.89678086  9.94383239\n",
            "  2.49386281  4.83568399 12.04145333 13.56668198  7.73485493  6.75496545\n",
            " 12.02805564 12.63752248  9.81482243 14.91397753  1.43629387 14.35383913\n",
            "  9.654825    5.83060204 10.06641045  1.56948601 10.64051682  8.45983674\n",
            " 10.56609859  1.59581465 11.27044995  5.57176809  9.10211387  2.71342227\n",
            " 12.29288758  7.08687631 13.99231699 10.84727007  2.42167391 10.37509646\n",
            "  2.74655323  1.55140653  4.67163982  8.93754064  6.33503652  8.94394619\n",
            " 12.74964759  8.56767782  5.10852555  7.76055503  7.14945084  4.68398145\n",
            " 14.33840428  9.72927284  5.64887482  6.74439336 11.71309478  7.77491718\n",
            " 14.35628001 10.83352994 10.62326062 10.16865842  6.53039806  5.16875629\n",
            "  4.433777   12.97038875 10.1442093   2.5232511   5.47728625 13.88109256\n",
            "  9.48028849 13.77517574 10.70444582  6.37069858]\n"
          ]
        }
      ]
    },
    {
      "cell_type": "code",
      "source": [
        "#histograma de los datos generados en el ejemplo:\n",
        "plt.hist(datosejemplo,bins=20, density=True)"
      ],
      "metadata": {
        "colab": {
          "base_uri": "https://localhost:8080/",
          "height": 435
        },
        "id": "Dj5IQenGC4et",
        "outputId": "caffcc34-6408-40fd-dff3-db3473ce44da"
      },
      "execution_count": null,
      "outputs": [
        {
          "output_type": "execute_result",
          "data": {
            "text/plain": [
              "(array([0.07301383, 0.07301383, 0.07301383, 0.02920553, 0.0438083 ,\n",
              "        0.10221936, 0.10221936, 0.0438083 , 0.0876166 , 0.10221936,\n",
              "        0.0438083 , 0.05841106, 0.10221936, 0.11682213, 0.07301383,\n",
              "        0.0438083 , 0.05841106, 0.02920553, 0.0876166 , 0.11682213]),\n",
              " array([ 1.21794221,  1.90274398,  2.58754574,  3.27234751,  3.95714927,\n",
              "         4.64195104,  5.32675281,  6.01155457,  6.69635634,  7.3811581 ,\n",
              "         8.06595987,  8.75076164,  9.4355634 , 10.12036517, 10.80516693,\n",
              "        11.4899687 , 12.17477047, 12.85957223, 13.544374  , 14.22917576,\n",
              "        14.91397753]),\n",
              " <a list of 20 Patch objects>)"
            ]
          },
          "metadata": {},
          "execution_count": 8
        },
        {
          "output_type": "display_data",
          "data": {
            "text/plain": [
              "<Figure size 432x288 with 1 Axes>"
            ],
            "image/png": "[encoded data removed]"
          },
          "metadata": {
            "needs_background": "light"
          }
        }
      ]
    },
    {
      "cell_type": "markdown",
      "source": [
        "**1.2.-** Implementar al menos 4 funciones con algoritmos de ordenamientos diferentes"
      ],
      "metadata": {
        "id": "KRv8yoT47wc2"
      }
    },
    {
      "cell_type": "code",
      "execution_count": null,
      "metadata": {
        "id": "MZPv0VUZeYai"
      },
      "outputs": [],
      "source": [
        "#Selection Sort:\n",
        "def selection_sort(datos):\n",
        "  for i in range(len(datos)):\n",
        "    min_idx=i\n",
        "    for j in range(i+1,len(datos)):\n",
        "      if datos[min_idx]>datos[j]:\n",
        "        min_idx=j\n",
        "    datos[i],datos[min_idx]=datos[min_idx],datos[i]\n",
        "  #print(\"- Término -\")\n",
        "  return(datos)"
      ]
    },
    {
      "cell_type": "code",
      "source": [
        "#Bubble Sort:\n",
        "def bubble_sort(datos):\n",
        "  n=len(datos)\n",
        "  for i in range(n-1):        #recorrer todos los elementos del arreglo\n",
        "    for j in range(0,n-i-1):  #los últimos i elementos están ordenados\n",
        "      if datos[j]>datos[j+1]:\n",
        "        datos[j],datos[j+1]=datos[j+1],datos[j]\n",
        "  #print(\"- Término -\")\n",
        "  return(datos)"
      ],
      "metadata": {
        "id": "1oBk2bKk6qyS"
      },
      "execution_count": null,
      "outputs": []
    },
    {
      "cell_type": "code",
      "source": [
        "#Insertion Sort:\n",
        "def insertion_sort(datos):\n",
        "  for i in range(1,len(datos)):\n",
        "    temporal=datos[i]\n",
        "    k=i\n",
        "    while k>0 and temporal<datos[k-1]:\n",
        "      datos[k]=datos[k-1]\n",
        "      k=k-1\n",
        "    datos[k]=temporal\n",
        "  return datos"
      ],
      "metadata": {
        "id": "4LOhknKY7kJ7"
      },
      "execution_count": null,
      "outputs": []
    },
    {
      "cell_type": "code",
      "source": [
        "def merge(arr,l,m,r):\n",
        "  \n",
        "  n1=m-l+1\n",
        "  n2=r-m\n",
        "\n",
        "  #crear arreglos temporales:\n",
        "  L=[0]*(n1)\n",
        "  R=[0]*(n2)\n",
        "\n",
        "  #copiar los datos en los arreglos temporales L[] y R[]:\n",
        "  for i in range(0,n1):\n",
        "    L[i]=arr[l+i]\n",
        "\n",
        "  for j in range(0,n2):\n",
        "    R[j]=arr[m+1+j]\n",
        "  \n",
        "  #copiar los arreglos temporales en arr[l..r]:\n",
        "  i=0   #indice del primer sub-arreglo\n",
        "  j=0   #indice del primer sub-arreglo\n",
        "  k=l   #indice del arreglo mezclado\n",
        "\n",
        "  while i<n1 and j<n2:\n",
        "    if L[i]<=R[j]:\n",
        "      arr[k]=L[i]\n",
        "      i+=1\n",
        "    else:\n",
        "      arr[k]=R[j]\n",
        "      j+=1\n",
        "    k=k+1\n",
        "  \n",
        "  #copiar el resto del subarreglo L[]\n",
        "  while i<n1:\n",
        "    arr[k]=L[i]\n",
        "    i+=1\n",
        "    k+=1\n",
        "\n",
        "  ##copiar el resto del subarreglo R[]\n",
        "  while j<n2:\n",
        "    arr[k]=R[j]\n",
        "    j+=1\n",
        "    k+=1\n",
        "\n"
      ],
      "metadata": {
        "id": "aR8QKGfS848P"
      },
      "execution_count": null,
      "outputs": []
    },
    {
      "cell_type": "code",
      "source": [
        "def merge_sort(datos,l,r):\n",
        "  if l<r:\n",
        "    m=l+(r-l)//2          #división entera\n",
        "    #llamadas recursivas para ordenar cada sub-arreglo:\n",
        "    merge_sort(datos,l,m)\n",
        "    merge_sort(datos,m+1,r)\n",
        "    merge(datos,l,m,r)\n",
        "  resultado=datos\n",
        "  return resultado"
      ],
      "metadata": {
        "id": "0gEIeK1zCg1n"
      },
      "execution_count": null,
      "outputs": []
    },
    {
      "cell_type": "markdown",
      "source": [
        "Las siguientes funciones se encuentran disponibles en el repositorio:\n",
        "https://www.geeksforgeeks.org/sorting-algorithms/"
      ],
      "metadata": {
        "id": "8yhbF6IkSql5"
      }
    },
    {
      "cell_type": "code",
      "source": [
        "def heapify(array, n, i):\n",
        "    largest = i\n",
        "    l = 2 * i + 1\n",
        "    r = 2 * i + 2\n",
        "    \n",
        "    if l < n and array[i] < array[l]:\n",
        "        largest = l\n",
        "    if r < n and array[largest] < array[r]:\n",
        "        largest = r\n",
        "    \n",
        "    if largest != i:\n",
        "        array[i], array[largest] = array[largest], array[i]\n",
        "        heapify(array, n, largest)"
      ],
      "metadata": {
        "id": "RzS_kP6zSyIK"
      },
      "execution_count": null,
      "outputs": []
    },
    {
      "cell_type": "code",
      "source": [
        "def heapSort(array):\n",
        "    #start_time = time.time()\n",
        "    n = len(array)\n",
        "    for i in range(n//2, -1, -1):\n",
        "        heapify(array, n, i)\n",
        "    for i in range(n-1, 0, -1):\n",
        "        array[i], array[0] = array[0], array[i]\n",
        "        heapify(array, i, 0)\n",
        "    #tiempo =(time.time() - start_time)\n",
        "    return array"
      ],
      "metadata": {
        "id": "WmpQ7AHNS3JY"
      },
      "execution_count": null,
      "outputs": []
    },
    {
      "cell_type": "code",
      "source": [
        "def shellSort(array, n):                        #además del arreglo, recibe como parámetro el número de elementos \"n\"\n",
        "    #start_time = time.time()\n",
        "    interval = n // 2\n",
        "    while interval > 0:\n",
        "        for i in range(interval, n):\n",
        "            temp = array[i]\n",
        "            j = i\n",
        "            while j >= interval and array[j - interval] > temp:\n",
        "                array[j] = array[j - interval]\n",
        "                j -= interval\n",
        "\n",
        "            array[j] = temp\n",
        "        interval //= 2\n",
        "    #tiempo =(time.time() - start_time)\n",
        "    return array"
      ],
      "metadata": {
        "id": "m8PsZ-NKTV0u"
      },
      "execution_count": null,
      "outputs": []
    },
    {
      "cell_type": "code",
      "source": [
        "def combsort(num):\n",
        "    #start_time = time.time()\n",
        "    gap = len(num)\n",
        "    swaps = True\n",
        "    while gap > 1 or swaps:\n",
        "        gap = max(1, int(gap / 1.25))  \n",
        "        swaps = False\n",
        "        for i in range(len(num) - gap):\n",
        "            j = i+gap\n",
        "            if num[i] > num[j]:\n",
        "                num[i], num[j] = num[j], num[i]\n",
        "                swaps = True\n",
        "    #tiempo =(time.time() - start_time)\n",
        "    return num"
      ],
      "metadata": {
        "id": "P3rTpsZNTmYP"
      },
      "execution_count": null,
      "outputs": []
    },
    {
      "cell_type": "markdown",
      "source": [
        "**1.3.-** Calcular los tiempos de ejecución requeridos por los métodos para ordenar listas aleatorias de elementos con $n= 10, 100, 1000, 10000, 100000$ elementos.  "
      ],
      "metadata": {
        "id": "WHpkXJJC784X"
      }
    },
    {
      "cell_type": "code",
      "source": [
        "tamaños=[10,100,1000,10000,100000]\n",
        "a=1\n",
        "b=88\n",
        "Tselectionsort=[]\n",
        "Tbubblesort=[]\n",
        "Tinsertionsort=[]\n",
        "Tmergesort=[]\n",
        "Theapsort=[]\n",
        "Tshellsort=[]\n",
        "Tcombsort=[]\n",
        "\n",
        "for k in tamaños:\n",
        "  print(\"Ordenando con n= \", k,\" elementos\" )\n",
        "  inicio=time.time()\n",
        "  selection_sort(aleatorio(k,a,b))\n",
        "  fin=time.time()\n",
        "  Tselectionsort.append(fin-inicio)\n",
        "\n",
        "  inicio=time.time()\n",
        "  bubble_sort(aleatorio(k,a,b))\n",
        "  fin=time.time()\n",
        "  Tbubblesort.append(fin-inicio)\n",
        "\n",
        "  inicio=time.time()\n",
        "  insertion_sort(aleatorio(k,a,b))\n",
        "  fin=time.time()\n",
        "  Tinsertionsort.append(fin-inicio)\n",
        "\n",
        "  x=aleatorio(k,a,b)\n",
        "  inicio=time.time()\n",
        "  merge_sort(x,l=0,r=len(x)-1)\n",
        "  fin=time.time()\n",
        "  Tmergesort.append(fin-inicio)\n",
        "\n",
        "  x=aleatorio(k,a,b)\n",
        "  inicio=time.time()\n",
        "  heapSort(x)\n",
        "  fin=time.time()\n",
        "  Theapsort.append(fin-inicio)\n",
        "\n",
        "  x=aleatorio(k,a,b)\n",
        "  inicio=time.time()\n",
        "  shellSort(x,len(x))\n",
        "  fin=time.time()\n",
        "  Tshellsort.append(fin-inicio)\n",
        "\n",
        "  x=aleatorio(k,a,b)\n",
        "  inicio=time.time()\n",
        "  combsort(x)\n",
        "  fin=time.time()\n",
        "  Tcombsort.append(fin-inicio)\n",
        "\n",
        "#Tselectionsort\n",
        "#Tbubblesort\n",
        "#Tinsertionsort\n",
        "#Tmergesort\n"
      ],
      "metadata": {
        "id": "_gGty8Ej8Uf1",
        "colab": {
          "base_uri": "https://localhost:8080/"
        },
        "outputId": "27caf565-1f7a-46be-c979-932267d7d023"
      },
      "execution_count": null,
      "outputs": [
        {
          "output_type": "stream",
          "name": "stdout",
          "text": [
            "Ordenando con n=  10  elementos\n",
            "Ordenando con n=  100  elementos\n",
            "Ordenando con n=  1000  elementos\n",
            "Ordenando con n=  10000  elementos\n",
            "Ordenando con n=  100000  elementos\n"
          ]
        }
      ]
    },
    {
      "cell_type": "code",
      "source": [
        "print(Tselectionsort)"
      ],
      "metadata": {
        "colab": {
          "base_uri": "https://localhost:8080/"
        },
        "id": "kWzlAn9G69ZC",
        "outputId": "89120928-7d03-4dc2-cf9a-c51625bda709"
      },
      "execution_count": null,
      "outputs": [
        {
          "output_type": "stream",
          "name": "stdout",
          "text": [
            "[0.00013303756713867188, 0.0015044212341308594, 0.12247872352600098, 12.370728015899658, 1230.0243892669678]\n"
          ]
        }
      ]
    },
    {
      "cell_type": "code",
      "source": [
        "print(Tbubblesort)"
      ],
      "metadata": {
        "colab": {
          "base_uri": "https://localhost:8080/"
        },
        "id": "9NUWVF6_7AEL",
        "outputId": "56c6b2da-2aca-4b64-9fd8-181d7c87ba80"
      },
      "execution_count": null,
      "outputs": [
        {
          "output_type": "stream",
          "name": "stdout",
          "text": [
            "[3.457069396972656e-05, 0.0022771358489990234, 0.23751330375671387, 22.838265657424927, 2307.6139957904816]\n"
          ]
        }
      ]
    },
    {
      "cell_type": "code",
      "source": [
        "print(Tinsertionsort)"
      ],
      "metadata": {
        "colab": {
          "base_uri": "https://localhost:8080/"
        },
        "id": "dOyubHFf7DTN",
        "outputId": "47d456bd-041a-43a8-b7d0-d84bc56c9e2f"
      },
      "execution_count": null,
      "outputs": [
        {
          "output_type": "stream",
          "name": "stdout",
          "text": [
            "[2.09808349609375e-05, 0.0008437633514404297, 0.10749173164367676, 10.3816819190979, 1072.3215806484222]\n"
          ]
        }
      ]
    },
    {
      "cell_type": "code",
      "source": [
        "print(Tmergesort)"
      ],
      "metadata": {
        "colab": {
          "base_uri": "https://localhost:8080/"
        },
        "id": "u7_NpJZu7GFx",
        "outputId": "754e5b50-4744-4cde-f0a2-c4baf74819e1"
      },
      "execution_count": null,
      "outputs": [
        {
          "output_type": "stream",
          "name": "stdout",
          "text": [
            "[4.458427429199219e-05, 0.0005118846893310547, 0.006615877151489258, 0.08676290512084961, 1.0601294040679932]\n"
          ]
        }
      ]
    },
    {
      "cell_type": "code",
      "source": [
        "print(Theapsort)"
      ],
      "metadata": {
        "colab": {
          "base_uri": "https://localhost:8080/"
        },
        "id": "dMDAXgDHVGLu",
        "outputId": "feab6de0-4200-4f22-c48d-cb50d275b46c"
      },
      "execution_count": null,
      "outputs": [
        {
          "output_type": "stream",
          "name": "stdout",
          "text": [
            "[3.838539123535156e-05, 0.0006747245788574219, 0.010898351669311523, 0.15907645225524902, 1.9644646644592285]\n"
          ]
        }
      ]
    },
    {
      "cell_type": "code",
      "source": [
        "print(Tshellsort)"
      ],
      "metadata": {
        "colab": {
          "base_uri": "https://localhost:8080/"
        },
        "id": "mDa-BXTFVIMi",
        "outputId": "bb0da203-b7bb-4c59-ae58-89595d41e8a8"
      },
      "execution_count": null,
      "outputs": [
        {
          "output_type": "stream",
          "name": "stdout",
          "text": [
            "[1.6689300537109375e-05, 0.0003757476806640625, 0.006482839584350586, 0.11184978485107422, 1.954225778579712]\n"
          ]
        }
      ]
    },
    {
      "cell_type": "code",
      "source": [
        "print(Tcombsort)"
      ],
      "metadata": {
        "colab": {
          "base_uri": "https://localhost:8080/"
        },
        "id": "EE64zC45VNSk",
        "outputId": "04b63932-867c-4d14-d5e0-e24470e64c1c"
      },
      "execution_count": null,
      "outputs": [
        {
          "output_type": "stream",
          "name": "stdout",
          "text": [
            "[2.7894973754882812e-05, 0.0004451274871826172, 0.008224964141845703, 0.11910128593444824, 1.6324663162231445]\n"
          ]
        }
      ]
    },
    {
      "cell_type": "markdown",
      "source": [
        "**1.4.-** Colcar una tabla comparativa con los resultados, además de un gráfico de $n$ vs $tiempo$."
      ],
      "metadata": {
        "id": "HKfkfX618URH"
      }
    },
    {
      "cell_type": "markdown",
      "source": [
        "A continuación se presenta una tabla con los tiempos, en segundos (s), para los 4 algoritmos de ordenamiento seleccionados (Selection Sort, Bubble Sort, Insertion Sort y Merge Sort), junto con el gráfico asociado a estos datos:"
      ],
      "metadata": {
        "id": "veFPpsQg_wS1"
      }
    },
    {
      "cell_type": "code",
      "source": [
        "\n",
        "# Tabla comparativa\n",
        "from tabulate import tabulate\n",
        "data = [[10, round(Tselectionsort[0],2), round(Tbubblesort[0],2), round(Tinsertionsort[0],2), round(Tmergesort[0],2), round(Theapsort[0],2), round(Tshellsort[0],2), round(Tcombsort[0],2)],\n",
        "[100, round(Tselectionsort[1],2), round(Tbubblesort[1],2), round(Tinsertionsort[1],2), round(Tmergesort[1],2), round(Theapsort[1],2), round(Tshellsort[1],2), round(Tcombsort[1],2)],\n",
        "[1000, round(Tselectionsort[2],2), round(Tbubblesort[2],2), round(Tinsertionsort[2],2), round(Tmergesort[2],2), round(Theapsort[2],2), round(Tshellsort[2],2), round(Tcombsort[2],2)],\n",
        "[10000, round(Tselectionsort[3],2), round(Tbubblesort[3],2), round(Tinsertionsort[3],2), round(Tmergesort[3],2), round(Theapsort[3],2), round(Tshellsort[3],2), round(Tcombsort[3],2)],\n",
        "[100000, round(Tselectionsort[4],2), round(Tbubblesort[4],2), round(Tinsertionsort[4],2), round(Tmergesort[4],2), round(Theapsort[4],2), round(Tshellsort[4],2), round(Tcombsort[4],2)]]\n",
        "print (tabulate(data, headers=[\"n\", \"Selection Sort (s)\", \"Bubble Sort (s)\", \"Insertion Sort (s)\", \"Merge Sort (s)\",\"Heap Sort (s)\",\"Shell Sort (s)\",\"Comb Sort (s)\"]))"
      ],
      "metadata": {
        "id": "nBm1Xopk8Tsy",
        "colab": {
          "base_uri": "https://localhost:8080/"
        },
        "outputId": "054e325a-ec07-4773-9fb1-f59f63a57169"
      },
      "execution_count": null,
      "outputs": [
        {
          "output_type": "stream",
          "name": "stdout",
          "text": [
            "     n    Selection Sort (s)    Bubble Sort (s)    Insertion Sort (s)    Merge Sort (s)    Heap Sort (s)    Shell Sort (s)    Comb Sort (s)\n",
            "------  --------------------  -----------------  --------------------  ----------------  ---------------  ----------------  ---------------\n",
            "    10                  0                  0                     0                 0                0                 0                0\n",
            "   100                  0                  0                     0                 0                0                 0                0\n",
            "  1000                  0.12               0.24                  0.11              0.01             0.01              0.01             0.01\n",
            " 10000                 12.37              22.84                 10.38              0.09             0.16              0.11             0.12\n",
            "100000               1230.02            2307.61               1072.32              1.06             1.96              1.95             1.63\n"
          ]
        }
      ]
    },
    {
      "cell_type": "code",
      "execution_count": null,
      "metadata": {
        "id": "Z1CM8opKeYal",
        "colab": {
          "base_uri": "https://localhost:8080/",
          "height": 863
        },
        "outputId": "c3149279-fbd0-462e-9430-7c10d4ef7192"
      },
      "outputs": [
        {
          "output_type": "display_data",
          "data": {
            "text/plain": [
              "<Figure size 1080x1080 with 1 Axes>"
            ],
            "image/png": "[encoded data removed]"
          },
          "metadata": {
            "needs_background": "light"
          }
        }
      ],
      "source": [
        "# Gráfico\n",
        "import matplotlib.pyplot as plt\n",
        "plt.figure(figsize=(15,15))\n",
        "plt.plot(tamaños,Tselectionsort ,linestyle='-', marker='o', label = \"Selection Sort (s)\")\n",
        "plt.plot(tamaños, Tbubblesort,linestyle='-', marker='o', label = \"Bubble Sort (s)\")\n",
        "plt.plot(tamaños, Tinsertionsort,linestyle='-', marker='o', label = \"Insertion Sort (s)\")\n",
        "plt.plot(tamaños, Tmergesort,linestyle='-', marker='o', label = \"Merge Sort (s)\")\n",
        "plt.plot(tamaños, Theapsort,linestyle='-', marker='o', label = \"Heap Sort (s)\")\n",
        "plt.plot(tamaños, Tshellsort,linestyle='-', marker='o', label = \"Shell Sort (s)\")\n",
        "plt.plot(tamaños, Tcombsort,linestyle='-', marker='o', label = \"Comb Sort (s)\")\n",
        "plt.grid()\n",
        "plt.legend()\n",
        "plt.show()"
      ]
    },
    {
      "cell_type": "markdown",
      "source": [
        "Como se puede ver, a medida que aumenta el tamaño de la instancia, los algoritmos que más tardan en la tarea de ordenamiento son Bubble Sort, Selection Sort e Insertion Sort, todos con complejidad temporal $O(n^2)$ en el peor escenario (con las instancias aleatorias de tamaños trabajados en este experimento, se confirma un crecimiento como parábola del tiempo en segundos para estos 3 algoritmos), mientras que el resto de los algoritmos probados (Merge Sort, Heap Sort, Shell Sort y Comb Sort) mantiene un tiempo de ejecución casi constante. Pese a lo anterior, de la última lista, sólo Heap Sort y Merge Sort son $O(n log(n))$ en el peor escenario (Shell Sort y Comb Sort también son $O(n^2)$ en el caso más desfavorable).\n",
        "\n",
        "Por último, pese a lo intuitivo que resulta su funcionamiento, Bubble Sort resulta ser el más ineficiente de los 4 algoritmos seleccionados, con un tiempo que bordea los 40 minutos para la instancia más grande de este experimento."
      ],
      "metadata": {
        "id": "HFxL5lVTPFZk"
      }
    },
    {
      "cell_type": "markdown",
      "source": [
        "## 2. Métodos Numéricos"
      ],
      "metadata": {
        "id": "EBWxhtFX8qt5"
      }
    },
    {
      "cell_type": "markdown",
      "source": [
        "**2.1.** Implementar el método de Halley cuya ecuación de iteración está dada por:\n",
        "\n",
        "$$g(x) = x - \\frac{f(x)}{f'(x)}\\left(1 - \\frac{f(x)\\cdot f''(x)}{2(f'(x))^2} \\right)^{-1}$$\n",
        "\n",
        "Una vez implementada la función, aplicarla para resolver la ecuación:\n",
        "\n",
        "$$f(x) = x^3 -3x + 2$$\n",
        "\n",
        "con punto de partida $x_0=2.4$."
      ],
      "metadata": {
        "id": "HaygfRjb8qQb"
      }
    },
    {
      "cell_type": "markdown",
      "source": [
        "* Utilizando la derivada de la función $f(x)$:"
      ],
      "metadata": {
        "id": "ODn9_D1BqF1S"
      }
    },
    {
      "cell_type": "code",
      "source": [
        "#f(x):\n",
        "def funcion(x):\n",
        "  return x**3-3*x+2"
      ],
      "metadata": {
        "id": "SnAFEogcFu17"
      },
      "execution_count": null,
      "outputs": []
    },
    {
      "cell_type": "code",
      "source": [
        "#derivada:\n",
        "def derivada(x):\n",
        "  return 3*x**2-3"
      ],
      "metadata": {
        "id": "ZpJjxgccF4yp"
      },
      "execution_count": null,
      "outputs": []
    },
    {
      "cell_type": "code",
      "source": [
        "def segderivada(x):\n",
        "  return 6*x"
      ],
      "metadata": {
        "id": "zq8-ir6vF_s-"
      },
      "execution_count": null,
      "outputs": []
    },
    {
      "cell_type": "markdown",
      "source": [
        "Gráficamente, f(x) se comporta del siguiente modo:"
      ],
      "metadata": {
        "id": "Tm0KcE_7HFse"
      }
    },
    {
      "cell_type": "code",
      "source": [
        "import matplotlib.pyplot as plt"
      ],
      "metadata": {
        "id": "Ej0GBQtA0NYo"
      },
      "execution_count": null,
      "outputs": []
    },
    {
      "cell_type": "code",
      "source": [
        "xi=np.linspace(-20,20,1000)\n",
        "r=funcion(xi)\n",
        "plt.plot(xi,r,\"-\")\n",
        "plt.xlabel(\"x\")\n",
        "plt.ylabel(\"f(x)\")\n",
        "plt.title(\"f(x)\")\n",
        "plt.grid()"
      ],
      "metadata": {
        "colab": {
          "base_uri": "https://localhost:8080/",
          "height": 295
        },
        "id": "YrR8OGUUHOEi",
        "outputId": "ee78fbf8-7fd8-4204-97eb-bd574a9251e2"
      },
      "execution_count": null,
      "outputs": [
        {
          "output_type": "display_data",
          "data": {
            "text/plain": [
              "<Figure size 432x288 with 1 Axes>"
            ],
            "image/png": "[encoded data removed]"
          },
          "metadata": {
            "needs_background": "light"
          }
        }
      ]
    },
    {
      "cell_type": "code",
      "source": [
        "def Halley(inicio,iter,tol=10**(-10)):\n",
        "  x0=inicio\n",
        "  k=1\n",
        "  epsilon=tol\n",
        "  while k<=iter and abs(funcion(x0))>=epsilon:\n",
        "    x0=x0-((funcion(x0))/(derivada(x0)))*(1-(funcion(x0)*segderivada(x0))/(2*derivada(x0)*derivada(x0)))**(-1)\n",
        "    k=k+1\n",
        "  print(\"La solución alcanzada con \", k, \" iteraciones es:\")\n",
        "  sol=x0\n",
        "  return sol"
      ],
      "metadata": {
        "id": "ngZ_Va748rAn"
      },
      "execution_count": null,
      "outputs": []
    },
    {
      "cell_type": "code",
      "source": [
        "Halley(2.4,100,tol=10**(-20))"
      ],
      "metadata": {
        "colab": {
          "base_uri": "https://localhost:8080/"
        },
        "id": "bcF8Ef_qI92S",
        "outputId": "08784489-12aa-44d5-ec30-351c151c006c"
      },
      "execution_count": null,
      "outputs": [
        {
          "output_type": "stream",
          "name": "stdout",
          "text": [
            "La solución alcanzada con  20  iteraciones es:\n"
          ]
        },
        {
          "output_type": "execute_result",
          "data": {
            "text/plain": [
              "1.0000000030895224"
            ]
          },
          "metadata": {},
          "execution_count": 46
        }
      ]
    },
    {
      "cell_type": "code",
      "source": [
        "\n",
        "#Comprobación de que el valor alcanzado tiene sentido como raíz:\n",
        "funcion(1.0000000030895224)"
      ],
      "metadata": {
        "colab": {
          "base_uri": "https://localhost:8080/"
        },
        "id": "-trSVYuQzor4",
        "outputId": "d1306412-a555-47f1-dccb-570b8f382de0"
      },
      "execution_count": null,
      "outputs": [
        {
          "output_type": "execute_result",
          "data": {
            "text/plain": [
              "0.0"
            ]
          },
          "metadata": {},
          "execution_count": 47
        }
      ]
    },
    {
      "cell_type": "markdown",
      "source": [
        "* Utilizando diferencias finitas para estimar la derivada:"
      ],
      "metadata": {
        "id": "DHDRVkbtqQID"
      }
    },
    {
      "cell_type": "code",
      "source": [
        "h = 0.0000001\n",
        "eps = 10**-20\n",
        "\n",
        "def f(x):\n",
        "    return x*x*x -3*x+2\n",
        "def fp(x):\n",
        "    global h\n",
        "    return (f(x + h) - f(x)) / h    \n",
        "def fpp(x):\n",
        "    global h\n",
        "    return (fp(x + h) - fp(x)) / h\n",
        "\n",
        "x = 2.4\n",
        "\n",
        "while True:\n",
        "    fx = f(x)\n",
        "    fpx = fp(x)\n",
        "    xnew = x - (2.0 * fx * fpx) / (2.0 * fpx * fpx - fx * fpp(x))\n",
        "    print(xnew)\n",
        "    if abs(xnew - x) <= eps: break\n",
        "    x = xnew"
      ],
      "metadata": {
        "colab": {
          "base_uri": "https://localhost:8080/"
        },
        "id": "uCdvv8vxqTON",
        "outputId": "d083b15a-6d96-46e1-fe32-2d51c6b16619"
      },
      "execution_count": null,
      "outputs": [
        {
          "output_type": "stream",
          "name": "stdout",
          "text": [
            "1.5176883433967778\n",
            "1.1825085950220786\n",
            "1.0618855013878128\n",
            "1.0206698936097056\n",
            "1.0068857282016908\n",
            "1.0022918432000787\n",
            "1.0007601124731176\n",
            "1.000254956116926\n",
            "1.0000855209279833\n",
            "1.000028509229557\n",
            "1.0000095167728935\n",
            "1.0000032293295738\n",
            "1.0000011316729365\n",
            "1.000000428303448\n",
            "1.0000001891139008\n",
            "1.0000001008445079\n",
            "1.0000000627763146\n",
            "1.0000000434919596\n",
            "1.0000000330583676\n",
            "1.0000000261149946\n",
            "1.0000000216412535\n",
            "1.0000000190309863\n",
            "1.0000000157281363\n",
            "1.0000000146013226\n",
            "1.0000000122465398\n",
            "1.0000000110518559\n",
            "1.0000000098198847\n",
            "1.0000000098198847\n"
          ]
        }
      ]
    },
    {
      "cell_type": "code",
      "source": [
        "#Comprobación de que el valor alcanzado tiene sentido como raíz:\n",
        "funcion(1.0000000098198847)"
      ],
      "metadata": {
        "colab": {
          "base_uri": "https://localhost:8080/"
        },
        "id": "7pBiIvgoql8Z",
        "outputId": "c345b389-8bf1-4576-f09c-5ea6f87b2008"
      },
      "execution_count": null,
      "outputs": [
        {
          "output_type": "execute_result",
          "data": {
            "text/plain": [
              "0.0"
            ]
          },
          "metadata": {},
          "execution_count": 49
        }
      ]
    },
    {
      "cell_type": "markdown",
      "source": [
        "Como se puede apreciar, utilizando las diferencias finitas en lugar de la derivada analítica de $f(x)$, la aproximación de la raíz lograda es tal que $f(x^*) = 0$."
      ],
      "metadata": {
        "id": "WArUfQnFqyeN"
      }
    },
    {
      "cell_type": "markdown",
      "source": [
        "**2.2** El proceso de aceleración de Aitken se utiliza para acelerar el proceso de convergencia de los algoritmos con convergencia lineal.\n",
        "\n",
        "Dada una secuencia $\\{x_n\\}_{n=0}^{\\infty}$ que converge linealmente a $p$, entonces el proceso de Aitken está dada por:\n",
        "\n",
        "$$q_n = x_n - \\frac{(x_{n+1}-x_n)^2}{x_{n+2} - 2x_{n+1} + x_n}$$.\n",
        "\n",
        "**Problema:** La secuencencia $\\{x_n\\}$ generada por la iteración de punto fijo $g(x) = \\ln(x) + 2$ y partiendo desde $x_0=3.14$ converge linealmente a $p\\approx 3.1419322$. Apicar el método de Aitken para encontrar $q_1$, $q_2$ y $q_3$ y de esta forma acelerar la convergencia. (Obs: $p\\approx 3.14619321$)"
      ],
      "metadata": {
        "id": "XZ5NlLXu_jkk"
      }
    },
    {
      "cell_type": "code",
      "execution_count": null,
      "metadata": {
        "id": "yvkTB97geYau"
      },
      "outputs": [],
      "source": [
        "def gfuncion(x):\n",
        "  return np.log(x)+2"
      ]
    },
    {
      "cell_type": "code",
      "source": [
        "def puntofijo(inicio,iteraciones,tol=10**(-10)):\n",
        "  k=1\n",
        "  sol=[]\n",
        "  sol.append(inicio)\n",
        "  x0=inicio\n",
        "  while (k <= iteraciones and abs(gfuncion(x0)-x0)>=tol):\n",
        "    x0=gfuncion(x0)\n",
        "    sol.append(x0)\n",
        "    k=k+1\n",
        "  print(\"- Fin -\")\n",
        "  return sol\n",
        "  "
      ],
      "metadata": {
        "id": "hjf8gCVp0wf8"
      },
      "execution_count": null,
      "outputs": []
    },
    {
      "cell_type": "code",
      "source": [
        "#prueba del método de punto fijo:\n",
        "puntofijo(3.14,100)"
      ],
      "metadata": {
        "colab": {
          "base_uri": "https://localhost:8080/"
        },
        "id": "x3wwxbdI2GBB",
        "outputId": "d1762da6-8b9a-45bf-9bdf-97500558a722"
      },
      "execution_count": null,
      "outputs": [
        {
          "output_type": "stream",
          "name": "stdout",
          "text": [
            "- Fin -\n"
          ]
        },
        {
          "output_type": "execute_result",
          "data": {
            "text/plain": [
              "[3.14,\n",
              " 3.144222799920162,\n",
              " 3.145566737170702,\n",
              " 3.1459940765158634,\n",
              " 3.146129921772223,\n",
              " 3.146173101231629,\n",
              " 3.1461868257643633,\n",
              " 3.1461911880490687,\n",
              " 3.1461925745788335,\n",
              " 3.1461930152797883,\n",
              " 3.146193155354152,\n",
              " 3.1461931998760106,\n",
              " 3.146193214027036,\n",
              " 3.1461932185248607,\n",
              " 3.146193219954469,\n",
              " 3.146193220408862,\n",
              " 3.1461932205532883]"
            ]
          },
          "metadata": {},
          "execution_count": 16
        }
      ]
    },
    {
      "cell_type": "code",
      "source": [
        "#Método de aceleración de Aitken:\n",
        "def Aitken(soluciones,tol=10**(-10)):\n",
        "  q=[]\n",
        "  k=0\n",
        "  x0=soluciones[0]\n",
        "  while(soluciones[k+2] and abs(gfuncion(x0)-x0)>=tol):\n",
        "    x0=soluciones[k]-((soluciones[k+1]-soluciones[k])**2)/(soluciones[k+2]-2*soluciones[k+1]+soluciones[k])\n",
        "    q.append(x0)\n",
        "    k=k+1\n",
        "  return q"
      ],
      "metadata": {
        "id": "pcj-xDKZ3wl0"
      },
      "execution_count": null,
      "outputs": []
    },
    {
      "cell_type": "code",
      "source": [
        "#Ejemplo de uso del método de Aitken:\n",
        "y=puntofijo(3.14,100)\n",
        "Aitken(y)"
      ],
      "metadata": {
        "colab": {
          "base_uri": "https://localhost:8080/"
        },
        "id": "li_1b70X5JY4",
        "outputId": "c23497e5-97bf-4426-cdcd-c553b5d2babc"
      },
      "execution_count": null,
      "outputs": [
        {
          "output_type": "stream",
          "name": "stdout",
          "text": [
            "- Fin -\n"
          ]
        },
        {
          "output_type": "execute_result",
          "data": {
            "text/plain": [
              "[3.146194126365903,\n",
              " 3.1461933120965377,\n",
              " 3.146193229861081,\n",
              " 3.1461932215540767,\n",
              " 3.146193220714888]"
            ]
          },
          "metadata": {},
          "execution_count": 26
        }
      ]
    },
    {
      "cell_type": "markdown",
      "source": [
        "Como se vio en las ejecuciones previas, el método acelerado de Aitken alcanza convergencia en una menor cantidad de iteraciones. A continuación se resumen los resultados en una tabla:"
      ],
      "metadata": {
        "id": "9jZMCd1CKw3K"
      }
    },
    {
      "cell_type": "code",
      "source": [
        "y=puntofijo(3.14,100)\n",
        "z=Aitken(y)\n",
        "from tabulate import tabulate\n",
        "data2=[]\n",
        "r=0\n",
        "for i in y:\n",
        "  if r<len(y) and r<len(z):\n",
        "    data2.append([r+1,y[r],round(z[r],8)])\n",
        "    r=r+1\n",
        "  elif r<len(y) and r>=len(z):\n",
        "    data2.append([r+1,y[r],\"--\"])\n",
        "    r=r+1\n",
        "print (tabulate(data2, headers=[\"Nº\", \"Punto Fijo\", \"Aceleración de Aitken\"], floatfmt=(\".0f\", \".8f\", \".9f\"),colalign=(\"right\",\"right\",\"right\")))"
      ],
      "metadata": {
        "colab": {
          "base_uri": "https://localhost:8080/"
        },
        "id": "cB93t3IdI-ft",
        "outputId": "d94bc660-528e-43a1-ae63-28112e8bb249"
      },
      "execution_count": null,
      "outputs": [
        {
          "output_type": "stream",
          "name": "stdout",
          "text": [
            "- Fin -\n",
            "  Nº    Punto Fijo    Aceleración de Aitken\n",
            "----  ------------  -----------------------\n",
            "   1    3.14000000               3.14619413\n",
            "   2    3.14422280               3.14619331\n",
            "   3    3.14556674               3.14619323\n",
            "   4    3.14599408               3.14619322\n",
            "   5    3.14612992               3.14619322\n",
            "   6    3.14617310                       --\n",
            "   7    3.14618683                       --\n",
            "   8    3.14619119                       --\n",
            "   9    3.14619257                       --\n",
            "  10    3.14619302                       --\n",
            "  11    3.14619316                       --\n",
            "  12    3.14619320                       --\n",
            "  13    3.14619321                       --\n",
            "  14    3.14619322                       --\n",
            "  15    3.14619322                       --\n",
            "  16    3.14619322                       --\n",
            "  17    3.14619322                       --\n"
          ]
        }
      ]
    },
    {
      "cell_type": "markdown",
      "source": [
        "#3.- Problema de Aplicación:\n",
        "\n",
        "Un problema clásico de la física elemental es el lanzamiento de un proyectil. Suponiendo que se dispara un proyectil desde el origen con un ángulo $\\alpha$ y velocidad inicial $v_0$. La ecuación de movimiento horizontal y vertical de la trayectoria del proyectil, al considerar una resistencia del aire proporcional a la velocidad, viene determinado por el siguiente modelo:\n",
        "\n",
        "$$\n",
        "  \\begin{array}{cl}\n",
        " y(t) &= (Cv_y+9.8C^2)\\left(1-e^{-t/C}\\right)-9.8Ct\\\\\n",
        " x(t) &= Cv_x\\left(1-e^{-t/C}\\right)\n",
        " \\end{array}\n",
        "$$\n",
        "\n",
        "donde $C=m/\\kappa$, $\\kappa$ es el coeficiente de resitencia del aire y $m$ es la masa del proyectil. Además $v_x=v_0 \\cos(\\alpha)$ y $v_y=v_0 \\sin(\\alpha)$.\n",
        "\n",
        "Se dispara el proyectil con un ángulo de elevación de $60°$, velocidades iniciales $v_0=100 [m/s]$ y $C=10$. Determinar el tiempo transcurrido hasta el impacto en el suelo y el alcance del lanzamiento. "
      ],
      "metadata": {
        "id": "EKLY0KsADFn-"
      }
    },
    {
      "cell_type": "markdown",
      "source": [
        "- 3.1. Graficar la trayectoria del proyectil"
      ],
      "metadata": {
        "id": "fh0PpGE0HzMf"
      }
    },
    {
      "cell_type": "code",
      "source": [
        "def coordenadaX(t,C,v0,alpha):\n",
        "  alpha=(alpha*np.pi/2)/90\n",
        "  return ((C*v0*np.cos(alpha))*(1-np.exp(-t/C)))"
      ],
      "metadata": {
        "id": "uJkGQBtxQ_HV"
      },
      "execution_count": null,
      "outputs": []
    },
    {
      "cell_type": "code",
      "source": [
        "def coordenadaY(t,C,v0,alpha):\n",
        "  alpha=(alpha*np.pi/2)/90\n",
        "  return ((C*v0*np.sin(alpha)+9.8*C*C)*(1-np.exp(-t/C))-9.8*C*t)"
      ],
      "metadata": {
        "id": "Znuj8r9cQOBF"
      },
      "execution_count": null,
      "outputs": []
    },
    {
      "cell_type": "code",
      "execution_count": null,
      "metadata": {
        "id": "ENTRX3iTeYay",
        "colab": {
          "base_uri": "https://localhost:8080/",
          "height": 312
        },
        "outputId": "94d588a7-ebaa-48cf-a6e8-0150ff494518"
      },
      "outputs": [
        {
          "output_type": "execute_result",
          "data": {
            "text/plain": [
              "[<matplotlib.lines.Line2D at 0x7fc86f6e3dd0>]"
            ]
          },
          "metadata": {},
          "execution_count": 61
        },
        {
          "output_type": "display_data",
          "data": {
            "text/plain": [
              "<Figure size 432x288 with 1 Axes>"
            ],
            "image/png": "[encoded data removed]"
          },
          "metadata": {
            "needs_background": "light"
          }
        }
      ],
      "source": [
        "t=np.linspace(0,20,1000)\n",
        "y=coordenadaY(t,C=10,v0=100,alpha=60)\n",
        "x=coordenadaX(t,C=10,v0=100,alpha=60)\n",
        "plt.plot(x,y,\"-\")\n",
        "plt.xlabel(\"x(t)\")\n",
        "plt.ylabel(\"y(t)\")\n",
        "plt.title(\"Trayectoria del proyectil\")\n",
        "plt.grid()\n",
        "plt.plot([450,0],[0,0],\"-\")"
      ]
    },
    {
      "cell_type": "markdown",
      "source": [
        "En el gráfico, la línea anaranjada representa el piso de referencia desde donde se lanza el proyectil, con un ángulo inicial de inclinación de $60º$."
      ],
      "metadata": {
        "id": "3ENQwb44SWwp"
      }
    },
    {
      "cell_type": "markdown",
      "source": [
        "- 3.2. Utilizar un método numérico (toolbox) con punto inicial $p_0=14$ y obtener una solución. . Indicar cuántos dígitos significativos tiene la solución."
      ],
      "metadata": {
        "id": "s6Fz4fDaH6MF"
      }
    },
    {
      "cell_type": "code",
      "execution_count": null,
      "metadata": {
        "id": "ACzscmuOeYa_",
        "colab": {
          "base_uri": "https://localhost:8080/"
        },
        "outputId": "adb7d9d5-a69c-4feb-e078-9f94b62d89fb"
      },
      "outputs": [
        {
          "output_type": "execute_result",
          "data": {
            "text/plain": [
              "    fjac: array([[-1.]])\n",
              "     fun: array([-2.72848411e-12])\n",
              " message: 'The solution converged.'\n",
              "    nfev: 6\n",
              "     qtf: array([-9.21982974e-07])\n",
              "       r: array([54.05600575])\n",
              "  status: 1\n",
              " success: True\n",
              "       x: array([14.3529305])"
            ]
          },
          "metadata": {},
          "execution_count": 63
        }
      ],
      "source": [
        "def coordenadaYOPT(t):\n",
        "  alpha=(60*np.pi/2)/90\n",
        "  return ((10*100*np.sin(alpha)+9.8*10*10)*(1-np.exp(-t/10))-9.8*10*t)\n",
        "\n",
        "from scipy import optimize\n",
        "solucion=optimize.root(coordenadaYOPT,14,method=\"hybr\")\n",
        "solucion"
      ]
    },
    {
      "cell_type": "markdown",
      "source": [
        "El método aplicado sugiere que en un tiempo $t = 14.3529305$ segundos el proyectil toca el suelo. Primero, verificando que esto se cumple:"
      ],
      "metadata": {
        "id": "yl6EYSAmVw31"
      }
    },
    {
      "cell_type": "code",
      "source": [
        "coordenadaY(14.3529305,C=10,v0=100,alpha=60)"
      ],
      "metadata": {
        "colab": {
          "base_uri": "https://localhost:8080/"
        },
        "id": "z4acgbvSV6NU",
        "outputId": "d7f4746c-6378-4201-c04f-1df89c78bf4d"
      },
      "execution_count": null,
      "outputs": [
        {
          "output_type": "execute_result",
          "data": {
            "text/plain": [
              "2.173101165681146e-08"
            ]
          },
          "metadata": {},
          "execution_count": 64
        }
      ]
    },
    {
      "cell_type": "markdown",
      "source": [
        "El resultado anterior sugiere que el proyectil se encuentra prácticamente en el piso. Para determinar su alcance en metros:"
      ],
      "metadata": {
        "id": "ZYnQg2DmWAOM"
      }
    },
    {
      "cell_type": "code",
      "source": [
        "coordenadaX(14.3529305,C=10,v0=100,alpha=60)"
      ],
      "metadata": {
        "colab": {
          "base_uri": "https://localhost:8080/"
        },
        "id": "RMB792AJWKTp",
        "outputId": "1c79b634-eb55-4c9a-be02-6ee858355285"
      },
      "execution_count": null,
      "outputs": [
        {
          "output_type": "execute_result",
          "data": {
            "text/plain": [
              "380.97720273463233"
            ]
          },
          "metadata": {},
          "execution_count": 65
        }
      ]
    },
    {
      "cell_type": "markdown",
      "source": [
        "Lo que se condice con el valor aproximado que muestra el gráfico (intersección entre la curva y el nivel de referencia del piso)."
      ],
      "metadata": {
        "id": "QMJeOugIWOMu"
      }
    },
    {
      "cell_type": "code",
      "source": [
        "#test de signos para dígitos significativos:\n",
        "t=9\n",
        "epsilon=10**(2-t)/2\n",
        "x_aprox=14.3529305\n",
        "coordenadaY(x_aprox-epsilon,C=10,v0=100,alpha=60)*coordenadaY(x_aprox+epsilon,C=10,v0=100,alpha=60)"
      ],
      "metadata": {
        "colab": {
          "base_uri": "https://localhost:8080/"
        },
        "id": "_OBJ1q8sZuhu",
        "outputId": "b7f642fd-a57f-4456-afb7-43b1c4aca92e"
      },
      "execution_count": null,
      "outputs": [
        {
          "output_type": "execute_result",
          "data": {
            "text/plain": [
              "-7.304704021793202e-12"
            ]
          },
          "metadata": {},
          "execution_count": 77
        }
      ]
    },
    {
      "cell_type": "markdown",
      "source": [
        "La solución lograda tiene al menos 9 dígitos significativos (corresponde al total de dígitos que entrega el método para la solución)."
      ],
      "metadata": {
        "id": "cYgc_t2Oak-4"
      }
    },
    {
      "cell_type": "markdown",
      "source": [
        "- 3.3 Aplicar el método de Newton y obtener una solución. Indicar cuántos dígitos significativos tiene la solución."
      ],
      "metadata": {
        "id": "wB2II_fKIJP0"
      }
    },
    {
      "cell_type": "code",
      "execution_count": null,
      "metadata": {
        "id": "PQ5udqrkeYbJ"
      },
      "outputs": [],
      "source": [
        "def dcoordenadaY(t,C,v0,alpha):\n",
        "  alpha=(alpha*np.pi/2)/90\n",
        "  return ((C*v0*np.sin(alpha)+9.8*C*C)*(-np.exp(-t/C)*(1/C))-9.8*C)"
      ]
    },
    {
      "cell_type": "code",
      "source": [
        "def metodoNewton(x0,iteraciones,tol=10**(-10)):\n",
        "  x1=x0-coordenadaY(x0,C=10,v0=100,alpha=60)/dcoordenadaY(x0,C=10,v0=100,alpha=60)\n",
        "  i=1\n",
        "  while(i<iteraciones and np.abs(coordenadaY(x1,C=10,v0=100,alpha=60))>tol):\n",
        "    aux=x0\n",
        "    x0=x1\n",
        "    x1=x0-coordenadaY(x0,C=10,v0=100,alpha=60)/dcoordenadaY(x0,C=10,v0=100,alpha=60)\n",
        "    i=i+1\n",
        "  print(\"El número de iteraciones alcanzado es: \",i)\n",
        "  return(x1)"
      ],
      "metadata": {
        "id": "_08up36-XwKz"
      },
      "execution_count": null,
      "outputs": []
    },
    {
      "cell_type": "code",
      "source": [
        "metodoNewton(14,100)"
      ],
      "metadata": {
        "colab": {
          "base_uri": "https://localhost:8080/"
        },
        "id": "6ZWDX0ZKYIrf",
        "outputId": "ea76c2e3-85c9-4e8a-c981-53414a10cdcb"
      },
      "execution_count": null,
      "outputs": [
        {
          "output_type": "stream",
          "name": "stdout",
          "text": [
            "El número de iteraciones alcanzado es:  55\n"
          ]
        },
        {
          "output_type": "execute_result",
          "data": {
            "text/plain": [
              "14.352930500400703"
            ]
          },
          "metadata": {},
          "execution_count": 68
        }
      ]
    },
    {
      "cell_type": "markdown",
      "source": [
        "Como se puede ver, la solución hasta el séptimo decimal (por lo menos) es la misma que se alcanza empleando el toolbox seleccionado."
      ],
      "metadata": {
        "id": "ujZEobGtYSES"
      }
    },
    {
      "cell_type": "code",
      "source": [
        "#test de signos para dígitos significativos:\n",
        "t=13\n",
        "epsilon=10**(2-t)/2\n",
        "x_aprox=14.352930500400703\n",
        "coordenadaY(x_aprox-epsilon,C=10,v0=100,alpha=60)*coordenadaY(x_aprox+epsilon,C=10,v0=100,alpha=60)"
      ],
      "metadata": {
        "colab": {
          "base_uri": "https://localhost:8080/"
        },
        "id": "ZLRF1ojDYLfO",
        "outputId": "1ecc0544-89fe-4952-9608-16aff05e9528"
      },
      "execution_count": null,
      "outputs": [
        {
          "output_type": "execute_result",
          "data": {
            "text/plain": [
              "-6.807396588339367e-20"
            ]
          },
          "metadata": {},
          "execution_count": 86
        }
      ]
    },
    {
      "cell_type": "markdown",
      "source": [
        "Mediante el test del signo, se concluye que la solución tiene 13 dígitos significativos."
      ],
      "metadata": {
        "id": "lnLiWcNEa8M4"
      }
    }
  ],
  "metadata": {
    "kernelspec": {
      "display_name": "Python 3",
      "language": "python",
      "name": "python3"
    },
    "language_info": {
      "codemirror_mode": {
        "name": "ipython",
        "version": 3
      },
      "file_extension": ".py",
      "mimetype": "text/x-python",
      "name": "python",
      "nbconvert_exporter": "python",
      "pygments_lexer": "ipython3",
      "version": "3.8.5"
    },
    "colab": {
      "name": "[Tarea Entregable]_2022 - EC - Tarea 2 - Estadística Computacional.ipynb",
      "provenance": [],
      "collapsed_sections": []
    }
  },
  "nbformat": 4,
  "nbformat_minor": 0
}